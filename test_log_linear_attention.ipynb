{
 "cells": [
  {
   "cell_type": "code",
   "execution_count": 6,
   "metadata": {},
   "outputs": [
    {
     "name": "stderr",
     "output_type": "stream",
     "text": [
      "HAttentionForCausalLM has generative capabilities, as `prepare_inputs_for_generation` is explicitly defined. However, it doesn't directly inherit from `GenerationMixin`. From 👉v4.50👈 onwards, `PreTrainedModel` will NOT inherit from `GenerationMixin`, and this model will lose the ability to call `generate` and other related functions.\n",
      "  - If you're using `trust_remote_code=True`, you can get rid of this warning by loading the model with an auto class. See https://huggingface.co/docs/transformers/en/model_doc/auto#auto-classes\n",
      "  - If you are the owner of the model architecture code, please modify your model class such that it inherits from `GenerationMixin` (after `PreTrainedModel`, otherwise you'll get an exception).\n",
      "  - If you are not the owner of the model architecture class, please contact the model code owner to update it.\n",
      "HAttentionModel has generative capabilities, as `prepare_inputs_for_generation` is explicitly defined. However, it doesn't directly inherit from `GenerationMixin`. From 👉v4.50👈 onwards, `PreTrainedModel` will NOT inherit from `GenerationMixin`, and this model will lose the ability to call `generate` and other related functions.\n",
      "  - If you're using `trust_remote_code=True`, you can get rid of this warning by loading the model with an auto class. See https://huggingface.co/docs/transformers/en/model_doc/auto#auto-classes\n",
      "  - If you are the owner of the model architecture code, please modify your model class such that it inherits from `GenerationMixin` (after `PreTrainedModel`, otherwise you'll get an exception).\n",
      "  - If you are not the owner of the model architecture class, please contact the model code owner to update it.\n",
      "HAttentionForCausalLM has generative capabilities, as `prepare_inputs_for_generation` is explicitly defined. However, it doesn't directly inherit from `GenerationMixin`. From 👉v4.50👈 onwards, `PreTrainedModel` will NOT inherit from `GenerationMixin`, and this model will lose the ability to call `generate` and other related functions.\n",
      "  - If you're using `trust_remote_code=True`, you can get rid of this warning by loading the model with an auto class. See https://huggingface.co/docs/transformers/en/model_doc/auto#auto-classes\n",
      "  - If you are the owner of the model architecture code, please modify your model class such that it inherits from `GenerationMixin` (after `PreTrainedModel`, otherwise you'll get an exception).\n",
      "  - If you are not the owner of the model architecture class, please contact the model code owner to update it.\n",
      "HAttentionForCausalLM has generative capabilities, as `prepare_inputs_for_generation` is explicitly defined. However, it doesn't directly inherit from `GenerationMixin`. From 👉v4.50👈 onwards, `PreTrainedModel` will NOT inherit from `GenerationMixin`, and this model will lose the ability to call `generate` and other related functions.\n",
      "  - If you're using `trust_remote_code=True`, you can get rid of this warning by loading the model with an auto class. See https://huggingface.co/docs/transformers/en/model_doc/auto#auto-classes\n",
      "  - If you are the owner of the model architecture code, please modify your model class such that it inherits from `GenerationMixin` (after `PreTrainedModel`, otherwise you'll get an exception).\n",
      "  - If you are not the owner of the model architecture class, please contact the model code owner to update it.\n"
     ]
    },
    {
     "name": "stdout",
     "output_type": "stream",
     "text": [
      "tensor([[    1,   415,   907,  1970,   298,  2380,   349,   369,   272,  1707,\n",
      "           464,  6468, 28742,   349, 30058, 28776, 30058, 28776, 30058, 28776,\n",
      "         30058, 28776, 30058, 28776, 30058, 28776, 30058, 28776, 30058, 28776,\n",
      "         30058, 28776, 30058, 28776, 30058, 28776, 30058, 28776, 30058, 28776,\n",
      "         30058, 28776, 30058, 28776, 30058, 28776]], device='cuda:0')\n",
      "The first thing to understand is that the word 'power' is설$설$설$설$설$설$설$설$설$설$설$설$설$설$설$설$\n"
     ]
    }
   ],
   "source": [
    "import os\n",
    "import torch\n",
    "import hattention\n",
    "from hattention import HAttentionForCausalLM\n",
    "from transformers import (\n",
    "    AutoModelForCausalLM, AutoTokenizer, GenerationConfig)\n",
    "\n",
    "os.environ[\"CUDA_VISIBLE_DEVICES\"] = \"7\"\n",
    "\n",
    "name = \"flame/exp/test_experiment\"\n",
    "#name = \"fla-hub/transformer-1.3B-100B\"\n",
    "#name = 'fla-hub/gla-1.3B-100B'\n",
    "\n",
    "\n",
    "tokenizer = AutoTokenizer.from_pretrained(name, trust_remote_code=True)\n",
    "model     = AutoModelForCausalLM.from_pretrained(\n",
    "                name, trust_remote_code=True).cuda()\n",
    "\n",
    "gen_cfg = GenerationConfig.from_model_config(model.config)\n",
    "\n",
    "model.generation_config = gen_cfg        # attach to the model\n",
    "\n",
    "tokenizer.pad_token_id = 0\n",
    "\n",
    "prompt = (\"The first thing to understand is that the word 'power' is\")\n",
    "input_ids  = tokenizer(prompt, return_tensors=\"pt\").input_ids.cuda()\n",
    "\n",
    "\n",
    "\n",
    "\n",
    "out = model.generate(input_ids,\n",
    "                     max_new_tokens=32)\n",
    "print(out)\n",
    "print(tokenizer.batch_decode(out, skip_special_tokens=True)[0])\n"
   ]
  }
 ],
 "metadata": {
  "kernelspec": {
   "display_name": "venv",
   "language": "python",
   "name": "python3"
  },
  "language_info": {
   "codemirror_mode": {
    "name": "ipython",
    "version": 3
   },
   "file_extension": ".py",
   "mimetype": "text/x-python",
   "name": "python",
   "nbconvert_exporter": "python",
   "pygments_lexer": "ipython3",
   "version": "3.12.3"
  }
 },
 "nbformat": 4,
 "nbformat_minor": 2
}
